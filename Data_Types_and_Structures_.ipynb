{
  "nbformat": 4,
  "nbformat_minor": 0,
  "metadata": {
    "colab": {
      "provenance": []
    },
    "kernelspec": {
      "name": "python3",
      "display_name": "Python 3"
    },
    "language_info": {
      "name": "python"
    }
  },
  "cells": [
    {
      "cell_type": "markdown",
      "source": [
        "                               Data Types and Structures\n",
        "\n",
        "\n",
        "Q1 What are data structures, and why are they important?\n",
        "\n",
        "Answer::-Data structures are ways of organizing and storing data in a computer so it can be accessed and used efficiently.They are important because they help optimize data processing, improve performance, and make it easier to manage and manipulate data in software development.\n",
        "\n",
        "Q2  Explain the difference between mutable and immutable data types with examples?\n",
        "\n",
        "Answer::-Mutable data types can be changed after they are created, while immutable data types cannot be changed once created.\n",
        "\n",
        "Mutable Example:\n",
        "\n",
        "List:-\n",
        "\n",
        "                    my_list = [1, 2, 3]\n",
        "                    my_list.append(4)  # Now my_list is [1, 2, 3, 4]\n",
        "\n",
        "Immutable Example:\n",
        "\n",
        "                     Tuple in Python:-my_tuple = (1, 2, 3)\n",
        "                     my_tuple[0] = 4  # Error: 'tuple' object does not support item assignment\n",
        "\n",
        "\n",
        "Q3  What are the main differences between lists and tuples in Python?\n",
        "\n",
        "Answer::-Lists :-are mutable, use `[]`, and are slower but flexible.\n",
        "Tuples :-are immutable, use `()`, and are faster but fixed.\n",
        "\n",
        "Example:\n",
        "            # List\n",
        "            my_list = [1, 2, 3]\n",
        "            my_list.append(4)  #Works\n",
        "            \n",
        "            # Tuple\n",
        "            my_tuple = (1, 2, 3)\n",
        "            my_tuple[0] = 4    #Error: Tuples are immutable\n",
        "\n",
        "Q4  Describe how dictionaries store data\n",
        "\n",
        "Answer::-Dictionaries store data as key-value pairs. Each key is unique and maps to a value.They use a hash table internally, which allows for fast lookups, insertions, and deletions.\n",
        "\n",
        "Example:-\n",
        "\n",
        "        my_dict = {\"name\": \"Alice\", \"age\": 25}\n",
        "\n",
        "        \"name\" and \"age\" are keys\n",
        "        \"Alice\" and 25 are their corresponding values\n",
        "\n",
        "Q5 Why might you use a set instead of a list in Python?\n",
        "Answer::-You might use a set instead of a list when you want to:\n",
        "* Ensure all elements are unique (no duplicates).\n",
        "* Perform faster membership tests (`in` checks).\n",
        "* Use set operations like union, intersection, and difference efficiently.\n",
        "\n",
        "Q6 What is a string in Python, and how is it different from a list?\n",
        "\n",
        "Answer::-A string in Python is a sequence of characters used to represent text, enclosed in quotes (e.g., \"hello\").\n",
        "Differences from a list: Strings are immutable (can’t be changed), while lists are mutable. Strings hold characters, lists can hold any data type.\n",
        "Strings support text-specific operations, lists support general data operations.\n",
        "\n",
        "Example:-\n",
        "\n",
        "        s = \"hello\"\n",
        "        s[0] = \"H\"  #Error, strings are immutable\n",
        "\n",
        "        lst = ['h', 'e', 'l', 'l', 'o']\n",
        "        lst[0] = 'H'  #Works, lists are mutable\n",
        "\n",
        "Q7  How do tuples ensure data integrity in Python?\n",
        "\n",
        "Answer::-Tuples ensure data integrity in Python because they are immutable, meaning once created, their contents cannot be changed. This prevents accidental modification of data, making tuples ideal for storing fixed collections of values that should stay constant.\n",
        "\n",
        "Q8 What is a hash table, and how does it relate to dictionaries in Python?\n",
        "\n",
        "Answer::-A hash table is a data structure that stores data using a hash function to compute an index (or hash) where the value is stored, enabling fast data lookup.\n",
        "In Python dictionaries are implemented using hash tables. Each key is hashed to quickly find its corresponding value, which makes dictionary operations like lookup, insertion, and deletion very efficient.\n",
        "\n",
        "Q9 Can lists contain different data types in Python?\n",
        "\n",
        "Answer::-Yes Lists in Python can contain different data types in the same list.\n",
        "For example:\n",
        "            \n",
        "            my_list = [1, \"hello\", 3.14, True]\n",
        "\n",
        "Q10 Explain why strings are immutable in Python?\n",
        "\n",
        "Answer::-Strings are immutable in Python to ensure data integrity and performance. Since strings are used widely and often shared, immutability prevents accidental changes that could cause bugs. It also allows Python to optimize memory usage by reusing string objects safely.\n",
        "\n",
        "\n",
        "Q11 What advantages do dictionaries offer over lists for certain tasks?\n",
        "\n",
        "Answer::-Dictionaries offer these advantages over lists for certain tasks:\n",
        "\n",
        "* Fast lookups by key (usually faster than searching a list).\n",
        "* Key-value storage, allowing direct access to data via meaningful keys instead of numeric indexes.\n",
        "* Flexible data organization, useful when you need to associate related information together.\n",
        "\n",
        "Q12 Describe a scenario where using a tuple would be preferable over a list?\n",
        "\n",
        "Answer::-Using a tuple is preferable when you want to store a fixed set of values that shouldn’t change, such as:\n",
        "* Representing coordinates (e.g., `(x, y)` points).\n",
        "* Storing data that must remain constant for safety, like RGB color values `(255, 0, 0)`.\n",
        "* Using tuples as keys in dictionaries (since lists can’t be keys).\n",
        "\n",
        "Q13 How do sets handle duplicate values in Python?\n",
        "\n",
        "Answer::-In Python sets automatically remove duplicate values each element appears only once. When you add duplicates to a set, only one copy is kept.\n",
        "\n",
        "Q14 How does the “in” keyword work differently for lists and dictionaries?\n",
        "\n",
        "Answer::-The `in` keyword works like this:\n",
        "\n",
        "* In lists: Checks if a value exists by searching through each item(slower, linear time).\n",
        "* In dictionaries: Checks if a key exists by using a hash lookup (faster, near constant time).\n",
        "\n",
        "Q15 Can you modify the elements of a tuple? Explain why or why not?\n",
        "\n",
        "Answer::-No you can’t modify elements of a tuple because tuples are immutable in Python. Once created, their contents cannot be changed, which helps ensure data integrity and makes tuples reliable for fixed data collections.\n",
        "\n",
        "Q16 What is a nested dictionary, and give an example of its use case?\n",
        "\n",
        "Answer::-A nested dictionaryis a dictionary where some values are themselves dictionaries. It lets you store complex, hierarchical data.\n",
        "\n",
        "Example use case:\n",
        "\n",
        "                Storing information about students and their grades in different subjects:\n",
        "                students=\n",
        "                {\n",
        "                    \"Alice\": {\"Math\": 90, \"English\": 85},\n",
        "                    \"Bob\": {\"Math\": 75, \"English\": 92}\n",
        "                }\n",
        "\n",
        "Q17 Describe the time complexity of accessing elements in a dictionary?\n",
        "\n",
        "Answer::-Accessing elements in a dictionary has an average time complexity of O(1) because it uses a hash table for direct key lookup.In rare cases with many hash collisions, it can degrade to O(n) but this is uncommon due to Python’s efficient hashing.\n",
        "\n",
        "Q18 In what situations are lists preferred over dictionaries?\n",
        "\n",
        "Answer::-Lists are preferred over dictionaries when:\n",
        "* You need ordered data or care about the position/index of elements.\n",
        "* You work with simple sequences without key-value pairs.\n",
        "* You require duplicates to be allowed and preserved.\n",
        "* You want to iterate through items in order easily.\n",
        "\n",
        "Q19 Why are dictionaries considered unordered, and how does that affect data retrieval?\n",
        "\n",
        "Answer::-Dictionaries are considered unordered because, before Python 3.7,they didn’t maintain the order of items as inserted. This means the order of keys could change, so you couldn’t rely on retrieval order.\n",
        "* You access items by key, not position so the order doesn’t matter.\n",
        "* If order matters, you’d use other structures like lists or `OrderedDict`\n",
        "\n",
        "Q20 Explain the difference between a list and a dictionary in terms of data retrieval.\n",
        "\n",
        "Answer::-List:Data is retrieved by index position  which is an integer. Retrieval is based on the order of elements.\n",
        "\n",
        "Dictionary:Data is retrieved by unique keys which can be strings, numbers, etc. Retrieval is direct via hashing, not by order. So, lists use **numeric indexing .\n",
        "\n",
        "\n",
        "\n",
        "\n",
        "\n",
        "\n",
        "\n",
        "\n",
        "\n",
        "\n",
        "\n",
        "\n",
        "\n",
        "\n",
        "\n",
        "\n",
        "\n",
        "\n",
        "\n",
        "\n",
        "\n",
        "\n",
        "\n",
        "\n",
        "\n"
      ],
      "metadata": {
        "id": "4rqBA7DpfU5p"
      }
    },
    {
      "cell_type": "code",
      "source": [
        "#Practical Questions\n",
        "#Q1 Write a code to create a string with your name and print it\n",
        "string=\"vaibhav Khairnar\"\n",
        "string"
      ],
      "metadata": {
        "colab": {
          "base_uri": "https://localhost:8080/",
          "height": 36
        },
        "id": "zbpnnk2cg9AA",
        "outputId": "b9fd82de-ef69-4255-eae3-27f0bc2e829d"
      },
      "execution_count": null,
      "outputs": [
        {
          "output_type": "execute_result",
          "data": {
            "text/plain": [
              "'vaibhav Khairnar'"
            ],
            "application/vnd.google.colaboratory.intrinsic+json": {
              "type": "string"
            }
          },
          "metadata": {},
          "execution_count": 1
        }
      ]
    },
    {
      "cell_type": "code",
      "source": [
        "#Q2 Write a code to find the length of the string \"Hello World\"\n",
        "print(len(\"hello world\"))"
      ],
      "metadata": {
        "colab": {
          "base_uri": "https://localhost:8080/"
        },
        "id": "MXorn4B9hMYw",
        "outputId": "e64ade46-915e-4bcd-9b76-12390776abd6"
      },
      "execution_count": null,
      "outputs": [
        {
          "output_type": "stream",
          "name": "stdout",
          "text": [
            "11\n"
          ]
        }
      ]
    },
    {
      "cell_type": "code",
      "source": [
        "#Q3  Write a code to slice the first 3 characters from the string \"Python Programming\"\n",
        "string='python programming'\n",
        "string2=string[:3]\n",
        "string2"
      ],
      "metadata": {
        "colab": {
          "base_uri": "https://localhost:8080/",
          "height": 36
        },
        "id": "03kgRuVkhvCP",
        "outputId": "00c83709-e197-4886-a04c-067c2180147f"
      },
      "execution_count": null,
      "outputs": [
        {
          "output_type": "execute_result",
          "data": {
            "text/plain": [
              "'pyt'"
            ],
            "application/vnd.google.colaboratory.intrinsic+json": {
              "type": "string"
            }
          },
          "metadata": {},
          "execution_count": 3
        }
      ]
    },
    {
      "cell_type": "code",
      "source": [
        "#Q4 Write a code to convert the string \"hello\" to uppercase\n",
        "string=\"HELLO\"\n",
        "string.upper()"
      ],
      "metadata": {
        "colab": {
          "base_uri": "https://localhost:8080/",
          "height": 36
        },
        "id": "yPWW1mQIiXWS",
        "outputId": "c3d73389-1b94-4071-a07f-cb8b80370c37"
      },
      "execution_count": null,
      "outputs": [
        {
          "output_type": "execute_result",
          "data": {
            "text/plain": [
              "'HELLO'"
            ],
            "application/vnd.google.colaboratory.intrinsic+json": {
              "type": "string"
            }
          },
          "metadata": {},
          "execution_count": 4
        }
      ]
    },
    {
      "cell_type": "code",
      "source": [
        "#Q5 Write a code to replace the word \"apple\" with \"orange\" in the string \"I like apple\"\n",
        "old_string='I like apple'\n",
        "new_string=old_string.replace('apple','orange')\n",
        "new_string\n",
        "\n"
      ],
      "metadata": {
        "colab": {
          "base_uri": "https://localhost:8080/",
          "height": 36
        },
        "id": "TwbAg3fDipnZ",
        "outputId": "ac829e3a-2584-48fe-99f0-0e61e423c696"
      },
      "execution_count": null,
      "outputs": [
        {
          "output_type": "execute_result",
          "data": {
            "text/plain": [
              "'I like orange'"
            ],
            "application/vnd.google.colaboratory.intrinsic+json": {
              "type": "string"
            }
          },
          "metadata": {},
          "execution_count": 7
        }
      ]
    },
    {
      "cell_type": "code",
      "source": [
        "#Q6 Write a code to create a list with numbers 1 to 5 and print it\n",
        "list=[1,2,3,4,5]\n",
        "list"
      ],
      "metadata": {
        "colab": {
          "base_uri": "https://localhost:8080/"
        },
        "id": "eq-i880YjWT2",
        "outputId": "ae246f95-dd4e-4895-8e4c-fc7411c7fcb1"
      },
      "execution_count": null,
      "outputs": [
        {
          "output_type": "execute_result",
          "data": {
            "text/plain": [
              "[1, 2, 3, 4, 5]"
            ]
          },
          "metadata": {},
          "execution_count": 8
        }
      ]
    },
    {
      "cell_type": "code",
      "source": [
        "#Q7 Write a code to append the number 10 to the list [1, 2, 3, 4]\n",
        "list=[1,2,3,4]\n",
        "list.append(10)\n",
        "list"
      ],
      "metadata": {
        "colab": {
          "base_uri": "https://localhost:8080/"
        },
        "id": "M1Uwnt0vkSIW",
        "outputId": "804baeea-4eb4-461e-ba01-cd5617f19f25"
      },
      "execution_count": null,
      "outputs": [
        {
          "output_type": "execute_result",
          "data": {
            "text/plain": [
              "[1, 2, 3, 4, 10]"
            ]
          },
          "metadata": {},
          "execution_count": 9
        }
      ]
    },
    {
      "cell_type": "code",
      "source": [
        "#Q8  Write a code to remove the number 3 from the list [1, 2, 3, 4, 5]\n",
        "list=[1,2,3,4,5]\n",
        "list.remove(3)\n",
        "list"
      ],
      "metadata": {
        "colab": {
          "base_uri": "https://localhost:8080/"
        },
        "id": "P29YubpqkbTu",
        "outputId": "ee1222ae-dffb-4b8c-c46f-3feb0c940f26"
      },
      "execution_count": null,
      "outputs": [
        {
          "output_type": "execute_result",
          "data": {
            "text/plain": [
              "[1, 2, 4, 5]"
            ]
          },
          "metadata": {},
          "execution_count": 10
        }
      ]
    },
    {
      "cell_type": "code",
      "source": [
        "#Q9 Write a code to access the second element in the list ['a', 'b', 'c', 'd']\n",
        "list=['a', 'b', 'c', 'd']\n",
        "list[1]"
      ],
      "metadata": {
        "colab": {
          "base_uri": "https://localhost:8080/",
          "height": 36
        },
        "id": "Ei7DiB-tkjRM",
        "outputId": "12383061-a31f-4ea4-bbc8-cb7659e335a8"
      },
      "execution_count": null,
      "outputs": [
        {
          "output_type": "execute_result",
          "data": {
            "text/plain": [
              "'b'"
            ],
            "application/vnd.google.colaboratory.intrinsic+json": {
              "type": "string"
            }
          },
          "metadata": {},
          "execution_count": 11
        }
      ]
    },
    {
      "cell_type": "code",
      "source": [
        "#Q10 Write a code to reverse the list [10, 20, 30, 40, 50].\n",
        "list= [10, 20, 30, 40, 50]\n",
        "list.reverse()\n",
        "list"
      ],
      "metadata": {
        "colab": {
          "base_uri": "https://localhost:8080/"
        },
        "id": "V5DC8sUCkqTo",
        "outputId": "323e6849-eee9-4733-acb6-2a6b1f34d223"
      },
      "execution_count": null,
      "outputs": [
        {
          "output_type": "execute_result",
          "data": {
            "text/plain": [
              "[50, 40, 30, 20, 10]"
            ]
          },
          "metadata": {},
          "execution_count": 12
        }
      ]
    },
    {
      "cell_type": "code",
      "source": [
        "#Q11 Write a code to create a tuple with the elements 100, 200, 300 and print it.\n",
        "tuple=(100,200,300)\n",
        "tuple"
      ],
      "metadata": {
        "colab": {
          "base_uri": "https://localhost:8080/"
        },
        "id": "hjno7LQ1kv4M",
        "outputId": "6e0b1784-21f3-4109-c922-9679c28264cf"
      },
      "execution_count": null,
      "outputs": [
        {
          "output_type": "execute_result",
          "data": {
            "text/plain": [
              "(100, 200, 300)"
            ]
          },
          "metadata": {},
          "execution_count": 13
        }
      ]
    },
    {
      "cell_type": "code",
      "source": [
        "#Q12 Write a code to access the second-to-last element of the tuple ('red', 'green', 'blue', 'yellow').\n",
        "tuple=('red', 'green', 'blue', 'yellow')\n",
        "tuple[2]"
      ],
      "metadata": {
        "colab": {
          "base_uri": "https://localhost:8080/",
          "height": 36
        },
        "id": "eAzHF8Mok2Gp",
        "outputId": "17299e51-3ba5-4a3c-9758-f85f3f80721e"
      },
      "execution_count": null,
      "outputs": [
        {
          "output_type": "execute_result",
          "data": {
            "text/plain": [
              "'blue'"
            ],
            "application/vnd.google.colaboratory.intrinsic+json": {
              "type": "string"
            }
          },
          "metadata": {},
          "execution_count": 14
        }
      ]
    },
    {
      "cell_type": "code",
      "source": [
        "#Q13 Write a code to find the minimum number in the tuple (10, 20, 5, 15).'\n",
        "tuple=(10, 20, 5, 15)\n",
        "min(tuple)"
      ],
      "metadata": {
        "colab": {
          "base_uri": "https://localhost:8080/"
        },
        "id": "99nfDyuOlBHa",
        "outputId": "b5fe8836-cf11-4389-b72c-187867556cfd"
      },
      "execution_count": null,
      "outputs": [
        {
          "output_type": "execute_result",
          "data": {
            "text/plain": [
              "5"
            ]
          },
          "metadata": {},
          "execution_count": 15
        }
      ]
    },
    {
      "cell_type": "code",
      "source": [
        "#Q14 Write a code to find the index of the element \"cat\" in the tuple ('dog', 'cat', 'rabbit').\n",
        "zoo=('dog', 'cat', 'rabbit')\n",
        "for i in range(len(zoo)):\n",
        "    if(zoo[i]=='cat'):\n",
        "        print(i)"
      ],
      "metadata": {
        "colab": {
          "base_uri": "https://localhost:8080/"
        },
        "id": "P67xKkyDlJjJ",
        "outputId": "fe44b9d3-1687-4eba-e73c-bcf00345ae5a"
      },
      "execution_count": null,
      "outputs": [
        {
          "output_type": "stream",
          "name": "stdout",
          "text": [
            "1\n"
          ]
        }
      ]
    },
    {
      "cell_type": "code",
      "source": [
        "#Q15 Write a code to create a tuple containing three different fruits and check if \"kiwi\" is in it.\n",
        "tuple=('apple','orange','banana','kiwi')\n",
        "for i in range(len(tuple)):\n",
        "    if(tuple[i]=='kiwi'):\n",
        "        print(tuple[i],f\"Is there \")"
      ],
      "metadata": {
        "colab": {
          "base_uri": "https://localhost:8080/"
        },
        "id": "lJZRa29blPOM",
        "outputId": "9b433ba9-69ea-48df-8ac3-765a9693bb24"
      },
      "execution_count": null,
      "outputs": [
        {
          "output_type": "stream",
          "name": "stdout",
          "text": [
            "kiwi Is there \n"
          ]
        }
      ]
    },
    {
      "cell_type": "code",
      "source": [
        "#Q16 Write a code to create a set with the elements 'a', 'b', 'c' and print it.\n",
        "s={'a','b','c'}\n",
        "s"
      ],
      "metadata": {
        "colab": {
          "base_uri": "https://localhost:8080/"
        },
        "id": "OZjPFsgflW1z",
        "outputId": "3aaab659-098d-42d9-c9b1-ce970146984b"
      },
      "execution_count": null,
      "outputs": [
        {
          "output_type": "execute_result",
          "data": {
            "text/plain": [
              "{'a', 'b', 'c'}"
            ]
          },
          "metadata": {},
          "execution_count": 18
        }
      ]
    },
    {
      "cell_type": "code",
      "source": [
        "#Q17 Write a code to clear all elements from the set {1, 2, 3, 4, 5}.\n",
        "set1={1, 2, 3, 4, 5}\n",
        "print('befor clear',set)\n",
        "set1.clear()\n",
        "print('after clear',set)"
      ],
      "metadata": {
        "colab": {
          "base_uri": "https://localhost:8080/"
        },
        "id": "IOn_x_gLlpEw",
        "outputId": "a784dc81-17fe-4746-d68f-a5303c041f6f"
      },
      "execution_count": null,
      "outputs": [
        {
          "output_type": "stream",
          "name": "stdout",
          "text": [
            "befor clear {1, 2, 3}\n",
            "after clear {1, 2, 3}\n"
          ]
        }
      ]
    },
    {
      "cell_type": "code",
      "source": [
        "#Q18 Write a code to remove the element 4 from the set {1, 2, 3, 4}.\n",
        "set1={1, 2, 3, 4}\n",
        "print('befor remove',set)\n",
        "set1.remove(4)\n",
        "print('after remove',set)"
      ],
      "metadata": {
        "colab": {
          "base_uri": "https://localhost:8080/"
        },
        "id": "xaktGmoRvqu0",
        "outputId": "6a1b0404-7df3-4699-e1ef-c68609366269"
      },
      "execution_count": null,
      "outputs": [
        {
          "output_type": "stream",
          "name": "stdout",
          "text": [
            "befor remove {1, 2, 3}\n",
            "after remove {1, 2, 3}\n"
          ]
        }
      ]
    },
    {
      "cell_type": "code",
      "source": [
        "#Q19 Write a code to find the union of two sets {1, 2, 3} and {3, 4, 5}.\n",
        "set1={1,2,3}\n",
        "set2={3,4,5}\n",
        "set3=set1.union(set2)\n",
        "set3"
      ],
      "metadata": {
        "colab": {
          "base_uri": "https://localhost:8080/"
        },
        "id": "lKxgSWj8vx2K",
        "outputId": "13b87745-ba06-45f4-e463-40f2280a9619"
      },
      "execution_count": null,
      "outputs": [
        {
          "output_type": "execute_result",
          "data": {
            "text/plain": [
              "{1, 2, 3, 4, 5}"
            ]
          },
          "metadata": {},
          "execution_count": 23
        }
      ]
    },
    {
      "cell_type": "code",
      "source": [
        "#Q20 Write a code to find the intersection of two sets {1, 2, 3} and {2, 3, 4}.\n",
        "set1={1, 2, 3}\n",
        "set2={2, 3, 4}\n",
        "set3=set1.intersection(set2)\n",
        "set3"
      ],
      "metadata": {
        "colab": {
          "base_uri": "https://localhost:8080/"
        },
        "id": "PJx-seNvwIQj",
        "outputId": "28fd51b4-74b1-42fd-b7a1-b3bb2ae7c7e9"
      },
      "execution_count": null,
      "outputs": [
        {
          "output_type": "execute_result",
          "data": {
            "text/plain": [
              "{2, 3}"
            ]
          },
          "metadata": {},
          "execution_count": 24
        }
      ]
    },
    {
      "cell_type": "code",
      "source": [
        "#Q21 Write a code to create a dictionary with the keys \"name\", \"age\", and \"city\", and print it.\n",
        "dist={\n",
        "    \"name\":\"Vaibhav khairnar\",\n",
        "    \"age\":22,\n",
        "    \"city\":\"Pune\"\n",
        "  }\n",
        "print(dist)"
      ],
      "metadata": {
        "colab": {
          "base_uri": "https://localhost:8080/"
        },
        "id": "XiSwYp5JwOiM",
        "outputId": "921f2841-4308-43a0-f5ae-c11b778f054b"
      },
      "execution_count": null,
      "outputs": [
        {
          "output_type": "stream",
          "name": "stdout",
          "text": [
            "{'name': 'Vaibhav khairnar', 'age': 22, 'city': 'Pune'}\n"
          ]
        }
      ]
    },
    {
      "cell_type": "code",
      "source": [
        "#Q22 Write a code to add a new key-value pair \"country\": \"USA\" to the dictionary {'name': 'John', 'age': 25}.\n",
        "dictionary= {'name': 'John', 'age': 25}\n",
        "dictionary[\"country\"]=\"USA\"\n",
        "dictionary\n"
      ],
      "metadata": {
        "colab": {
          "base_uri": "https://localhost:8080/"
        },
        "id": "-J1BrC9VxKUN",
        "outputId": "00edcedf-5a39-4546-efff-49ea645c52ed"
      },
      "execution_count": null,
      "outputs": [
        {
          "output_type": "execute_result",
          "data": {
            "text/plain": [
              "{'name': 'John', 'age': 25, 'country': 'USA'}"
            ]
          },
          "metadata": {},
          "execution_count": 28
        }
      ]
    },
    {
      "cell_type": "code",
      "source": [
        "from os import name\n",
        "#Q23 Write a code to access the value associated with the key \"name\" in the dictionary {'name': 'Alice', 'age': 30}.\n",
        "dictionary={'name': 'Alice', 'age': 30}\n",
        "dictionary[\"name\"]\n"
      ],
      "metadata": {
        "colab": {
          "base_uri": "https://localhost:8080/",
          "height": 36
        },
        "id": "6qTiKfnXxee5",
        "outputId": "5c514031-efc4-4711-d534-c19067795b5a"
      },
      "execution_count": null,
      "outputs": [
        {
          "output_type": "execute_result",
          "data": {
            "text/plain": [
              "'Alice'"
            ],
            "application/vnd.google.colaboratory.intrinsic+json": {
              "type": "string"
            }
          },
          "metadata": {},
          "execution_count": 30
        }
      ]
    },
    {
      "cell_type": "code",
      "source": [
        "#Q24 Write a code to remove the key \"age\" from the dictionary {'name': 'Bob', 'age': 22, 'city': 'New York'}.\n",
        "dictionary = {'name': 'Bob', 'age': 22, 'city': 'New York'}\n",
        "del(dictionary[\"age\"])\n",
        "dictionary"
      ],
      "metadata": {
        "colab": {
          "base_uri": "https://localhost:8080/"
        },
        "id": "Sy6j5xqcyr7d",
        "outputId": "7f965d5c-5435-45c4-da4c-37b5e554fc24"
      },
      "execution_count": null,
      "outputs": [
        {
          "output_type": "execute_result",
          "data": {
            "text/plain": [
              "{'name': 'Bob', 'city': 'New York'}"
            ]
          },
          "metadata": {},
          "execution_count": 37
        }
      ]
    },
    {
      "cell_type": "code",
      "source": [
        "#Q25  Write a code to check if the key \"city\" exists in the dictionary {'name': 'Alice', 'city': 'Paris'}.\n",
        "dictionary = {'name': 'Alice', 'city': 'Paris'}\n",
        "for i in dictionary:\n",
        "  if(i==\"city\"):\n",
        "    print(\"Exists In dictionary\")"
      ],
      "metadata": {
        "colab": {
          "base_uri": "https://localhost:8080/"
        },
        "id": "1xLly7dVy_2S",
        "outputId": "5d5d4601-1cf3-4cbe-dc3e-00e40e90648e"
      },
      "execution_count": null,
      "outputs": [
        {
          "output_type": "stream",
          "name": "stdout",
          "text": [
            "Exists In dictionary\n"
          ]
        }
      ]
    },
    {
      "cell_type": "code",
      "source": [
        "#Q26 Write a code to create a list, a tuple, and a dictionary, and print them all.\n",
        "list=[1,2,3,4,5,\"Vaibhav\",\"Pune\"]\n",
        "tuple=(1,2,3,4,5,\"Vaibhav\",\"Pune\")\n",
        "dictionary = {'name': 'Alice', 'city': 'Paris'}\n",
        "print(f\"list={list} \\ntuple={tuple} \\ndictionary={dictionary}\")\n"
      ],
      "metadata": {
        "colab": {
          "base_uri": "https://localhost:8080/"
        },
        "id": "Tf5nwfWL0FRU",
        "outputId": "2acb951c-6b00-4cd5-e44c-45adbbf10de5"
      },
      "execution_count": null,
      "outputs": [
        {
          "output_type": "stream",
          "name": "stdout",
          "text": [
            "list=[1, 2, 3, 4, 5, 'Vaibhav', 'Pune'] \n",
            "tuple=(1, 2, 3, 4, 5, 'Vaibhav', 'Pune') \n",
            "dictionary={'name': 'Alice', 'city': 'Paris'}\n"
          ]
        }
      ]
    },
    {
      "cell_type": "code",
      "source": [
        "#Q27  Write a code to create a list of 5 random numbers between 1 and 100, sort it in ascending order, and print the result.(replaced)\n",
        "\n",
        "import random  #random module ko import karna padta hai numbers generate karne ke liye\n",
        "\n",
        "# 5 random numbers generate karna 1 se 100 ke beech\n",
        "random_numbers = [random.randint(1, 100) for _ in range(5)]\n",
        "\n",
        "#List ko ascending order mein sort karna\n",
        "random_numbers.sort()\n",
        "\n",
        "#Result print karna\n",
        "print(\"Sorted random numbers:\", random_numbers)\n"
      ],
      "metadata": {
        "colab": {
          "base_uri": "https://localhost:8080/"
        },
        "id": "rJQlk45e1QVx",
        "outputId": "9fe1f268-f2da-4971-ebe9-4959e4d0f811"
      },
      "execution_count": null,
      "outputs": [
        {
          "output_type": "stream",
          "name": "stdout",
          "text": [
            "Sorted random numbers: [15, 39, 52, 56, 60]\n"
          ]
        }
      ]
    },
    {
      "cell_type": "code",
      "source": [
        "#Q28 Write a code to create a list with strings and print the element at the third index.\n",
        "list=[\"vaibhav\",\"pune\",\"nashik\",\"nandurbar\"]\n",
        "list[2]"
      ],
      "metadata": {
        "colab": {
          "base_uri": "https://localhost:8080/",
          "height": 36
        },
        "id": "8qVgXd-m2bO8",
        "outputId": "f4bde0e0-dedf-4606-d3a3-6dee2deb172a"
      },
      "execution_count": null,
      "outputs": [
        {
          "output_type": "execute_result",
          "data": {
            "text/plain": [
              "'nashik'"
            ],
            "application/vnd.google.colaboratory.intrinsic+json": {
              "type": "string"
            }
          },
          "metadata": {},
          "execution_count": 47
        }
      ]
    },
    {
      "cell_type": "code",
      "source": [
        "#Q29 Write a code to combine two dictionaries into one and print the result.\n",
        "dictionary1 = {'name': 'Alice', 'city': 'Paris'}\n",
        "dictionary2 = {'name': 'Bob', 'age': 22, 'city': 'New York'}\n",
        "dictionary3=dictionary1|dictionary2\n",
        "dictionary3"
      ],
      "metadata": {
        "colab": {
          "base_uri": "https://localhost:8080/"
        },
        "id": "PT6bJncJ2yQk",
        "outputId": "357cd487-b649-443c-db14-7fa3c4f09f4e"
      },
      "execution_count": null,
      "outputs": [
        {
          "output_type": "execute_result",
          "data": {
            "text/plain": [
              "{'name': 'Bob', 'city': 'New York', 'age': 22}"
            ]
          },
          "metadata": {},
          "execution_count": 49
        }
      ]
    },
    {
      "cell_type": "code",
      "source": [
        "#Q30 Write a code to convert a list of strings into a set.\n",
        "my_list=[\"vaibhav\",\"pune\",\"nashik\",\"nandurbar\"]\n",
        "my_set=set(my_list)\n",
        "my_set"
      ],
      "metadata": {
        "colab": {
          "base_uri": "https://localhost:8080/"
        },
        "id": "BmJAjFqG5jm0",
        "outputId": "fb0f4d18-4168-491d-eb7f-fb89346d812b"
      },
      "execution_count": 1,
      "outputs": [
        {
          "output_type": "execute_result",
          "data": {
            "text/plain": [
              "{'nandurbar', 'nashik', 'pune', 'vaibhav'}"
            ]
          },
          "metadata": {},
          "execution_count": 1
        }
      ]
    }
  ]
}